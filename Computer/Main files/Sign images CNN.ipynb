{
 "cells": [
  {
   "cell_type": "code",
   "execution_count": 1,
   "metadata": {},
   "outputs": [
    {
     "name": "stderr",
     "output_type": "stream",
     "text": [
      "Using TensorFlow backend.\n"
     ]
    }
   ],
   "source": [
    "import matplotlib.pyplot as plt\n",
    "import matplotlib.image as mpimag\n",
    "\n",
    "import numpy as np\n",
    "import cv2\n",
    "import keras\n",
    "from keras.models import Sequential\n",
    "from keras.layers import Conv2D, MaxPooling2D, Dense, Flatten, Dropout\n",
    "from keras.optimizers import Adam\n",
    "from keras.utils.np_utils import to_categorical\n",
    "\n",
    "from sklearn.utils import shuffle \n",
    "from sklearn.model_selection import train_test_split\n",
    "\n",
    "import os\n",
    "import pandas as pd"
   ]
  },
  {
   "cell_type": "code",
   "execution_count": 2,
   "metadata": {},
   "outputs": [
    {
     "name": "stdout",
     "output_type": "stream",
     "text": [
      "   signs  type\n",
      "0  0.jpg  0   \n",
      "1  1.jpg  0   \n",
      "2  2.jpg  0   \n",
      "3  3.jpg  0   \n",
      "4  4.jpg  0   \n"
     ]
    },
    {
     "data": {
      "text/plain": [
       "signs    500.jpg\n",
       "type     3      \n",
       "Name: 500, dtype: object"
      ]
     },
     "execution_count": 2,
     "metadata": {},
     "output_type": "execute_result"
    }
   ],
   "source": [
    "# determine the colmuns of data for dataFrame pandas\n",
    "# we have tow columns (signs , type)\n",
    "colmuns=[\"signs\",\"type\"]\n",
    "\n",
    "# read CSV file \n",
    "data = pd.read_csv(\"signs.csv\",names=colmuns)\n",
    "pd.set_option(\"display.max_colwidth\",-1)\n",
    "\n",
    "# show the first five rows\n",
    "print(data.head())\n",
    "\n",
    "# show row\n",
    "data.iloc[500]"
   ]
  },
  {
   "cell_type": "code",
   "execution_count": 4,
   "metadata": {},
   "outputs": [
    {
     "name": "stdout",
     "output_type": "stream",
     "text": [
      "['photo/0.jpg' 'photo/1.jpg' 'photo/2.jpg' 'photo/3.jpg' 'photo/4.jpg'\n",
      " 'photo/5.jpg' 'photo/6.jpg' 'photo/7.jpg' 'photo/8.jpg' 'photo/9.jpg'\n",
      " 'photo/10.jpg' 'photo/11.jpg' 'photo/12.jpg' 'photo/13.jpg'\n",
      " 'photo/14.jpg' 'photo/15.jpg' 'photo/16.jpg' 'photo/17.jpg'\n",
      " 'photo/18.jpg' 'photo/19.jpg' 'photo/20.jpg' 'photo/21.jpg'\n",
      " 'photo/22.jpg' 'photo/23.jpg' 'photo/24.jpg' 'photo/25.jpg'\n",
      " 'photo/26.jpg' 'photo/27.jpg' 'photo/28.jpg' 'photo/29.jpg'\n",
      " 'photo/30.jpg' 'photo/31.jpg' 'photo/32.jpg' 'photo/33.jpg'\n",
      " 'photo/34.jpg' 'photo/35.jpg' 'photo/36.jpg' 'photo/37.jpg'\n",
      " 'photo/38.jpg' 'photo/39.jpg' 'photo/40.jpg' 'photo/41.jpg'\n",
      " 'photo/42.jpg' 'photo/43.jpg' 'photo/44.jpg' 'photo/45.jpg'\n",
      " 'photo/46.jpg' 'photo/47.jpg' 'photo/48.jpg' 'photo/49.jpg'\n",
      " 'photo/50.jpg' 'photo/51.jpg' 'photo/52.jpg' 'photo/53.jpg'\n",
      " 'photo/54.jpg' 'photo/55.jpg' 'photo/56.jpg' 'photo/57.jpg'\n",
      " 'photo/58.jpg' 'photo/59.jpg' 'photo/60.jpg' 'photo/61.jpg'\n",
      " 'photo/62.jpg' 'photo/63.jpg' 'photo/64.jpg' 'photo/65.jpg'\n",
      " 'photo/66.jpg' 'photo/67.jpg' 'photo/68.jpg' 'photo/69.jpg'\n",
      " 'photo/70.jpg' 'photo/71.jpg' 'photo/72.jpg' 'photo/73.jpg'\n",
      " 'photo/74.jpg' 'photo/75.jpg' 'photo/76.jpg' 'photo/77.jpg'\n",
      " 'photo/78.jpg' 'photo/79.jpg' 'photo/80.jpg' 'photo/81.jpg'\n",
      " 'photo/82.jpg' 'photo/83.jpg' 'photo/84.jpg' 'photo/85.jpg'\n",
      " 'photo/86.jpg' 'photo/87.jpg' 'photo/88.jpg' 'photo/89.jpg'\n",
      " 'photo/90.jpg' 'photo/91.jpg' 'photo/92.jpg' 'photo/93.jpg'\n",
      " 'photo/94.jpg' 'photo/95.jpg' 'photo/96.jpg' 'photo/97.jpg'\n",
      " 'photo/98.jpg' 'photo/99.jpg' 'photo/100.jpg' 'photo/101.jpg'\n",
      " 'photo/102.jpg' 'photo/103.jpg' 'photo/104.jpg' 'photo/105.jpg'\n",
      " 'photo/106.jpg' 'photo/107.jpg' 'photo/108.jpg' 'photo/109.jpg'\n",
      " 'photo/110.jpg' 'photo/111.jpg' 'photo/112.jpg' 'photo/113.jpg'\n",
      " 'photo/114.jpg' 'photo/115.jpg' 'photo/116.jpg' 'photo/117.jpg'\n",
      " 'photo/118.jpg' 'photo/119.jpg' 'photo/120.jpg' 'photo/121.jpg'\n",
      " 'photo/122.jpg' 'photo/123.jpg' 'photo/124.jpg' 'photo/125.jpg'\n",
      " 'photo/126.jpg' 'photo/127.jpg' 'photo/128.jpg' 'photo/129.jpg'\n",
      " 'photo/130.jpg' 'photo/131.jpg' 'photo/132.jpg' 'photo/133.jpg'\n",
      " 'photo/134.jpg' 'photo/135.jpg' 'photo/136.jpg' 'photo/137.jpg'\n",
      " 'photo/138.jpg' 'photo/139.jpg' 'photo/140.jpg' 'photo/141.jpg'\n",
      " 'photo/142.jpg' 'photo/143.jpg' 'photo/144.jpg' 'photo/145.jpg'\n",
      " 'photo/146.jpg' 'photo/147.jpg' 'photo/148.jpg' 'photo/149.jpg'\n",
      " 'photo/150.jpg' 'photo/151.jpg' 'photo/152.jpg' 'photo/153.jpg'\n",
      " 'photo/154.jpg' 'photo/155.jpg' 'photo/156.jpg' 'photo/157.jpg'\n",
      " 'photo/158.jpg' 'photo/159.jpg' 'photo/160.jpg' 'photo/161.jpg'\n",
      " 'photo/162.jpg' 'photo/163.jpg' 'photo/164.jpg' 'photo/165.jpg'\n",
      " 'photo/166.jpg' 'photo/167.jpg' 'photo/168.jpg' 'photo/169.jpg'\n",
      " 'photo/170.jpg' 'photo/171.jpg' 'photo/172.jpg' 'photo/173.jpg'\n",
      " 'photo/174.jpg' 'photo/175.jpg' 'photo/176.jpg' 'photo/177.jpg'\n",
      " 'photo/178.jpg' 'photo/179.jpg' 'photo/180.jpg' 'photo/181.jpg'\n",
      " 'photo/182.jpg' 'photo/183.jpg' 'photo/184.jpg' 'photo/185.jpg'\n",
      " 'photo/186.jpg' 'photo/187.jpg' 'photo/188.jpg' 'photo/189.jpg'\n",
      " 'photo/190.jpg' 'photo/191.jpg' 'photo/192.jpg' 'photo/193.jpg'\n",
      " 'photo/194.jpg' 'photo/195.jpg' 'photo/196.jpg' 'photo/197.jpg'\n",
      " 'photo/198.jpg' 'photo/199.jpg' 'photo/200.jpg' 'photo/201.jpg'\n",
      " 'photo/202.jpg' 'photo/203.jpg' 'photo/204.jpg' 'photo/205.jpg'\n",
      " 'photo/206.jpg' 'photo/207.jpg' 'photo/208.jpg' 'photo/209.jpg'\n",
      " 'photo/210.jpg' 'photo/211.jpg' 'photo/212.jpg' 'photo/213.jpg'\n",
      " 'photo/214.jpg' 'photo/215.jpg' 'photo/216.jpg' 'photo/217.jpg'\n",
      " 'photo/218.jpg' 'photo/219.jpg' 'photo/220.jpg' 'photo/221.jpg'\n",
      " 'photo/222.jpg' 'photo/223.jpg' 'photo/224.jpg' 'photo/225.jpg'\n",
      " 'photo/226.jpg' 'photo/227.jpg' 'photo/228.jpg' 'photo/229.jpg'\n",
      " 'photo/230.jpg' 'photo/231.jpg' 'photo/232.jpg' 'photo/233.jpg'\n",
      " 'photo/234.jpg' 'photo/235.jpg' 'photo/236.jpg' 'photo/237.jpg'\n",
      " 'photo/238.jpg' 'photo/239.jpg' 'photo/240.jpg' 'photo/241.jpg'\n",
      " 'photo/242.jpg' 'photo/243.jpg' 'photo/244.jpg' 'photo/245.jpg'\n",
      " 'photo/246.jpg' 'photo/247.jpg' 'photo/248.jpg' 'photo/249.jpg'\n",
      " 'photo/250.jpg' 'photo/251.jpg' 'photo/252.jpg' 'photo/253.jpg'\n",
      " 'photo/254.jpg' 'photo/255.jpg' 'photo/256.jpg' 'photo/257.jpg'\n",
      " 'photo/258.jpg' 'photo/259.jpg' 'photo/260.jpg' 'photo/261.jpg'\n",
      " 'photo/262.jpg' 'photo/263.jpg' 'photo/264.jpg' 'photo/265.jpg'\n",
      " 'photo/266.jpg' 'photo/267.jpg' 'photo/268.jpg' 'photo/269.jpg'\n",
      " 'photo/270.jpg' 'photo/271.jpg' 'photo/272.jpg' 'photo/273.jpg'\n",
      " 'photo/274.jpg' 'photo/275.jpg' 'photo/276.jpg' 'photo/277.jpg'\n",
      " 'photo/278.jpg' 'photo/279.jpg' 'photo/280.jpg' 'photo/281.jpg'\n",
      " 'photo/282.jpg' 'photo/283.jpg' 'photo/284.jpg' 'photo/285.jpg'\n",
      " 'photo/286.jpg' 'photo/287.jpg' 'photo/288.jpg' 'photo/289.jpg'\n",
      " 'photo/290.jpg' 'photo/291.jpg' 'photo/292.jpg' 'photo/293.jpg'\n",
      " 'photo/294.jpg' 'photo/295.jpg' 'photo/296.jpg' 'photo/297.jpg'\n",
      " 'photo/298.jpg' 'photo/299.jpg' 'photo/300.jpg' 'photo/301.jpg'\n",
      " 'photo/302.jpg' 'photo/303.jpg' 'photo/304.jpg' 'photo/305.jpg'\n",
      " 'photo/306.jpg' 'photo/307.jpg' 'photo/308.jpg' 'photo/309.jpg'\n",
      " 'photo/310.jpg' 'photo/311.jpg' 'photo/312.jpg' 'photo/313.jpg'\n",
      " 'photo/314.jpg' 'photo/315.jpg' 'photo/316.jpg' 'photo/317.jpg'\n",
      " 'photo/318.jpg' 'photo/319.jpg' 'photo/320.jpg' 'photo/321.jpg'\n",
      " 'photo/322.jpg' 'photo/323.jpg' 'photo/324.jpg' 'photo/325.jpg'\n",
      " 'photo/326.jpg' 'photo/327.jpg' 'photo/328.jpg' 'photo/329.jpg'\n",
      " 'photo/330.jpg' 'photo/331.jpg' 'photo/332.jpg' 'photo/333.jpg'\n",
      " 'photo/334.jpg' 'photo/335.jpg' 'photo/336.jpg' 'photo/337.jpg'\n",
      " 'photo/338.jpg' 'photo/339.jpg' 'photo/340.jpg' 'photo/341.jpg'\n",
      " 'photo/342.jpg' 'photo/343.jpg' 'photo/344.jpg' 'photo/345.jpg'\n",
      " 'photo/346.jpg' 'photo/347.jpg' 'photo/348.jpg' 'photo/349.jpg'\n",
      " 'photo/350.jpg' 'photo/351.jpg' 'photo/352.jpg' 'photo/353.jpg'\n",
      " 'photo/354.jpg' 'photo/355.jpg' 'photo/356.jpg' 'photo/357.jpg'\n",
      " 'photo/358.jpg' 'photo/359.jpg' 'photo/360.jpg' 'photo/361.jpg'\n",
      " 'photo/362.jpg' 'photo/363.jpg' 'photo/364.jpg' 'photo/365.jpg'\n",
      " 'photo/366.jpg' 'photo/367.jpg' 'photo/368.jpg' 'photo/369.jpg'\n",
      " 'photo/370.jpg' 'photo/371.jpg' 'photo/372.jpg' 'photo/373.jpg'\n",
      " 'photo/374.jpg' 'photo/375.jpg' 'photo/376.jpg' 'photo/377.jpg'\n",
      " 'photo/378.jpg' 'photo/379.jpg' 'photo/380.jpg' 'photo/381.jpg'\n",
      " 'photo/382.jpg' 'photo/383.jpg' 'photo/384.jpg' 'photo/385.jpg'\n",
      " 'photo/386.jpg' 'photo/387.jpg' 'photo/388.jpg' 'photo/389.jpg'\n",
      " 'photo/390.jpg' 'photo/391.jpg' 'photo/392.jpg' 'photo/393.jpg'\n",
      " 'photo/394.jpg' 'photo/395.jpg' 'photo/396.jpg' 'photo/397.jpg'\n",
      " 'photo/398.jpg' 'photo/399.jpg' 'photo/400.jpg' 'photo/401.jpg'\n",
      " 'photo/402.jpg' 'photo/403.jpg' 'photo/404.jpg' 'photo/405.jpg'\n",
      " 'photo/406.jpg' 'photo/407.jpg' 'photo/408.jpg' 'photo/409.jpg'\n",
      " 'photo/410.jpg' 'photo/411.jpg' 'photo/412.jpg' 'photo/413.jpg'\n",
      " 'photo/414.jpg' 'photo/415.jpg' 'photo/416.jpg' 'photo/417.jpg'\n",
      " 'photo/418.jpg' 'photo/419.jpg' 'photo/420.jpg' 'photo/421.jpg'\n",
      " 'photo/422.jpg' 'photo/423.jpg' 'photo/424.jpg' 'photo/425.jpg'\n",
      " 'photo/426.jpg' 'photo/427.jpg' 'photo/428.jpg' 'photo/429.jpg'\n",
      " 'photo/430.jpg' 'photo/431.jpg' 'photo/432.jpg' 'photo/433.jpg'\n",
      " 'photo/434.jpg' 'photo/435.jpg' 'photo/436.jpg' 'photo/437.jpg'\n",
      " 'photo/438.jpg' 'photo/439.jpg' 'photo/440.jpg' 'photo/441.jpg'\n",
      " 'photo/442.jpg' 'photo/443.jpg' 'photo/444.jpg' 'photo/445.jpg'\n",
      " 'photo/446.jpg' 'photo/447.jpg' 'photo/448.jpg' 'photo/449.jpg'\n",
      " 'photo/450.jpg' 'photo/451.jpg' 'photo/452.jpg' 'photo/453.jpg'\n",
      " 'photo/454.jpg' 'photo/455.jpg' 'photo/456.jpg' 'photo/457.jpg'\n",
      " 'photo/458.jpg' 'photo/459.jpg' 'photo/460.jpg' 'photo/461.jpg'\n",
      " 'photo/462.jpg' 'photo/463.jpg' 'photo/464.jpg' 'photo/465.jpg'\n",
      " 'photo/466.jpg' 'photo/467.jpg' 'photo/468.jpg' 'photo/469.jpg'\n",
      " 'photo/470.jpg' 'photo/471.jpg' 'photo/472.jpg' 'photo/473.jpg'\n",
      " 'photo/474.jpg' 'photo/475.jpg' 'photo/476.jpg' 'photo/477.jpg'\n",
      " 'photo/478.jpg' 'photo/479.jpg' 'photo/480.jpg' 'photo/481.jpg'\n",
      " 'photo/482.jpg' 'photo/483.jpg' 'photo/484.jpg' 'photo/485.jpg'\n",
      " 'photo/486.jpg' 'photo/487.jpg' 'photo/488.jpg' 'photo/489.jpg'\n",
      " 'photo/490.jpg' 'photo/491.jpg' 'photo/492.jpg' 'photo/493.jpg'\n",
      " 'photo/494.jpg' 'photo/495.jpg' 'photo/496.jpg' 'photo/497.jpg'\n",
      " 'photo/498.jpg' 'photo/499.jpg' 'photo/500.jpg' 'photo/501.jpg'\n",
      " 'photo/502.jpg' 'photo/503.jpg' 'photo/504.jpg' 'photo/505.jpg'\n",
      " 'photo/506.jpg' 'photo/507.jpg' 'photo/508.jpg' 'photo/509.jpg'\n",
      " 'photo/510.jpg' 'photo/511.jpg' 'photo/512.jpg' 'photo/513.jpg'\n",
      " 'photo/514.jpg' 'photo/515.jpg' 'photo/516.jpg' 'photo/517.jpg'\n",
      " 'photo/518.jpg' 'photo/519.jpg' 'photo/520.jpg' 'photo/521.jpg'\n",
      " 'photo/522.jpg' 'photo/523.jpg' 'photo/524.jpg' 'photo/525.jpg'\n",
      " 'photo/526.jpg' 'photo/527.jpg' 'photo/528.jpg' 'photo/529.jpg'\n",
      " 'photo/530.jpg' 'photo/531.jpg' 'photo/532.jpg' 'photo/533.jpg'\n",
      " 'photo/534.jpg' 'photo/535.jpg' 'photo/536.jpg' 'photo/537.jpg'\n",
      " 'photo/538.jpg' 'photo/539.jpg' 'photo/540.jpg' 'photo/541.jpg'\n",
      " 'photo/542.jpg' 'photo/543.jpg' 'photo/544.jpg' 'photo/545.jpg'\n",
      " 'photo/546.jpg' 'photo/547.jpg' 'photo/548.jpg' 'photo/549.jpg'\n",
      " 'photo/550.jpg' 'photo/551.jpg' 'photo/552.jpg' 'photo/553.jpg'\n",
      " 'photo/554.jpg' 'photo/555.jpg' 'photo/556.jpg' 'photo/557.jpg'\n",
      " 'photo/558.jpg' 'photo/559.jpg' 'photo/560.jpg' 'photo/561.jpg'\n",
      " 'photo/562.jpg' 'photo/563.jpg' 'photo/564.jpg' 'photo/565.jpg'\n",
      " 'photo/566.jpg' 'photo/567.jpg' 'photo/568.jpg' 'photo/569.jpg'\n",
      " 'photo/570.jpg' 'photo/571.jpg' 'photo/572.jpg' 'photo/573.jpg'\n",
      " 'photo/574.jpg' 'photo/575.jpg' 'photo/576.jpg' 'photo/577.jpg'\n",
      " 'photo/578.jpg' 'photo/579.jpg' 'photo/580.jpg' 'photo/581.jpg'\n",
      " 'photo/582.jpg' 'photo/583.jpg' 'photo/584.jpg' 'photo/585.jpg'\n",
      " 'photo/586.jpg' 'photo/587.jpg' 'photo/588.jpg' 'photo/589.jpg'\n",
      " 'photo/590.jpg' 'photo/591.jpg' 'photo/592.jpg' 'photo/593.jpg'\n",
      " 'photo/594.jpg' 'photo/595.jpg' 'photo/596.jpg' 'photo/597.jpg'\n",
      " 'photo/598.jpg' 'photo/599.jpg' 'photo/600.jpg' 'photo/601.jpg'\n",
      " 'photo/602.jpg' 'photo/603.jpg' 'photo/604.jpg' 'photo/605.jpg'\n",
      " 'photo/606.jpg' 'photo/607.jpg' 'photo/608.jpg' 'photo/609.jpg'\n",
      " 'photo/610.jpg' 'photo/611.jpg' 'photo/612.jpg' 'photo/613.jpg'\n",
      " 'photo/614.jpg' 'photo/615.jpg' 'photo/616.jpg' 'photo/617.jpg'\n",
      " 'photo/618.jpg' 'photo/619.jpg' 'photo/620.jpg' 'photo/621.jpg'\n",
      " 'photo/622.jpg' 'photo/623.jpg' 'photo/624.jpg' 'photo/625.jpg'\n",
      " 'photo/626.jpg' 'photo/627.jpg' 'photo/628.jpg' 'photo/629.jpg'\n",
      " 'photo/630.jpg' 'photo/631.jpg' 'photo/632.jpg' 'photo/633.jpg'\n",
      " 'photo/634.jpg' 'photo/635.jpg' 'photo/636.jpg' 'photo/637.jpg'\n",
      " 'photo/638.jpg' 'photo/639.jpg' 'photo/640.jpg' 'photo/641.jpg'\n",
      " 'photo/642.jpg' 'photo/643.jpg' 'photo/644.jpg' 'photo/645.jpg'\n",
      " 'photo/646.jpg' 'photo/647.jpg' 'photo/648.jpg' 'photo/649.jpg'\n",
      " 'photo/650.jpg' 'photo/651.jpg' 'photo/652.jpg' 'photo/653.jpg'\n",
      " 'photo/654.jpg' 'photo/655.jpg' 'photo/656.jpg' 'photo/657.jpg'\n",
      " 'photo/658.jpg' 'photo/659.jpg' 'photo/660.jpg' 'photo/661.jpg'\n",
      " 'photo/662.jpg' 'photo/663.jpg' 'photo/664.jpg' 'photo/665.jpg'\n",
      " 'photo/666.jpg' 'photo/667.jpg' 'photo/668.jpg' 'photo/669.jpg'\n",
      " 'photo/670.jpg' 'photo/671.jpg' 'photo/672.jpg' 'photo/673.jpg'\n",
      " 'photo/674.jpg' 'photo/675.jpg' 'photo/676.jpg' 'photo/677.jpg'\n",
      " 'photo/678.jpg' 'photo/679.jpg' 'photo/680.jpg' 'photo/681.jpg'\n",
      " 'photo/682.jpg' 'photo/683.jpg' 'photo/684.jpg' 'photo/685.jpg'\n",
      " 'photo/686.jpg' 'photo/687.jpg' 'photo/688.jpg' 'photo/689.jpg'\n",
      " 'photo/690.jpg' 'photo/691.jpg' 'photo/692.jpg' 'photo/693.jpg'\n",
      " 'photo/694.jpg' 'photo/695.jpg' 'photo/696.jpg' 'photo/697.jpg'\n",
      " 'photo/698.jpg' 'photo/699.jpg' 'photo/700.jpg' 'photo/701.jpg'\n",
      " 'photo/702.jpg' 'photo/703.jpg' 'photo/704.jpg' 'photo/705.jpg'\n",
      " 'photo/706.jpg' 'photo/707.jpg' 'photo/708.jpg' 'photo/709.jpg'\n",
      " 'photo/710.jpg' 'photo/711.jpg' 'photo/712.jpg' 'photo/713.jpg'\n",
      " 'photo/714.jpg' 'photo/715.jpg' 'photo/716.jpg' 'photo/717.jpg'\n",
      " 'photo/718.jpg' 'photo/719.jpg' 'photo/720.jpg' 'photo/721.jpg'\n",
      " 'photo/722.jpg' 'photo/723.jpg' 'photo/724.jpg' 'photo/725.jpg'\n",
      " 'photo/726.jpg' 'photo/727.jpg' 'photo/728.jpg' 'photo/729.jpg'\n",
      " 'photo/730.jpg' 'photo/731.jpg' 'photo/732.jpg' 'photo/733.jpg'\n",
      " 'photo/734.jpg' 'photo/735.jpg' 'photo/736.jpg' 'photo/737.jpg'\n",
      " 'photo/738.jpg' 'photo/739.jpg' 'photo/740.jpg' 'photo/741.jpg'\n",
      " 'photo/742.jpg' 'photo/743.jpg' 'photo/744.jpg' 'photo/745.jpg'\n",
      " 'photo/746.jpg' 'photo/747.jpg' 'photo/748.jpg']\n",
      "[0 0 0 0 0 0 0 0 0 0 0 0 0 0 0 0 0 0 0 0 0 0 0 0 0 0 0 0 0 0 0 0 0 0 0 0 0\n",
      " 0 0 0 0 0 0 0 0 0 0 0 0 0 0 0 0 0 0 0 0 0 0 0 0 0 0 0 0 0 0 0 0 0 0 0 0 0\n",
      " 0 0 0 0 0 0 0 0 0 0 0 0 0 0 0 0 0 0 0 0 0 0 0 0 0 0 0 0 0 0 0 0 0 1 1 1 1\n",
      " 1 1 1 1 1 1 1 1 1 1 1 1 1 1 1 1 1 1 1 1 1 1 1 1 1 1 1 1 1 1 1 1 1 1 1 1 1\n",
      " 1 1 1 1 1 1 1 1 1 1 1 1 1 1 1 1 1 1 1 1 1 1 1 1 1 1 1 1 1 1 1 1 1 1 1 1 1\n",
      " 1 1 1 1 1 1 1 1 1 1 1 1 1 1 1 1 1 1 1 1 1 1 1 1 1 1 1 1 1 1 1 1 1 1 1 1 1\n",
      " 1 1 1 1 1 1 1 1 1 1 1 1 1 1 1 1 1 1 1 1 1 1 1 1 1 1 1 1 1 1 1 1 1 1 1 1 1\n",
      " 1 1 1 1 1 1 1 1 1 1 1 1 1 1 2 2 2 2 2 2 2 2 2 2 2 2 2 2 2 2 2 2 2 2 2 2 2\n",
      " 2 2 2 2 2 2 2 2 2 2 2 2 2 2 2 2 2 2 2 2 2 2 2 2 2 2 2 2 2 2 2 2 2 2 2 2 2\n",
      " 2 2 2 2 2 2 2 2 2 2 2 2 2 2 2 2 2 2 2 2 2 2 2 2 2 2 2 2 2 2 2 2 2 2 3 3 3\n",
      " 3 3 3 3 3 3 3 3 3 3 3 3 3 3 3 3 3 3 3 3 3 3 3 3 3 3 3 3 3 3 3 3 3 3 3 3 3\n",
      " 3 3 3 3 3 3 3 3 3 3 3 3 3 3 3 3 3 3 3 3 3 3 3 3 3 3 3 3 3 3 3 3 3 3 3 3 3\n",
      " 3 3 3 3 3 3 3 3 3 3 3 3 3 3 3 3 3 3 3 3 3 3 3 3 3 3 3 3 3 3 3 3 3 3 3 3 3\n",
      " 3 3 3 3 3 3 3 3 3 3 3 3 3 3 3 3 3 3 3 3 3 3 3 3 3 3 3 3 3 3 3 3 3 3 3 3 3\n",
      " 3 3 3 3 3 3 3 3 3 3 3 3 0 0 0 0 0 0 0 0 0 0 0 0 0 0 0 0 0 0 0 1 1 1 1 1 1\n",
      " 1 1 1 1 1 1 1 1 1 1 1 1 1 1 1 1 1 1 1 1 1 1 1 1 1 1 1 1 1 1 1 1 1 1 1 0 0\n",
      " 0 0 0 0 0 0 0 0 0 0 0 0 0 0 0 0 0 0 0 0 0 0 0 0 0 0 0 0 0 0 0 0 0 0 0 0 0\n",
      " 0 0 0 0 0 0 0 0 0 0 0 0 0 0 0 0 0 0 0 0 0 0 0 0 0 0 0 0 0 0 0 0 0 0 0 0 0\n",
      " 0 0 0 0 0 0 0 0 0 0 0 0 4 4 4 4 4 4 4 4 4 4 4 4 4 4 4 4 4 4 4 4 4 4 4 4 4\n",
      " 4 4 4 4 4 4 4 4 4 4 4 4 4 4 4 4 4 4 4 4 4 4 4 4 4 4 4 4 4 4 4 4 4 4 4 4 4\n",
      " 4 4 4 4 4 4 4 4 4]\n"
     ]
    }
   ],
   "source": [
    "# load the data (image and type)\n",
    "def load_imageAndtype(data_path,df):\n",
    "    # define image list for put all image on it\n",
    "    image=[]\n",
    "    \n",
    "    # define sign type list for put all types on it\n",
    "    sign_type=[]\n",
    "    \n",
    "    # for every row put the image in image list and type sign on the sign_type list\n",
    "    for i in range(len(df)):\n",
    "        index_data = df.iloc[i]\n",
    "        image.append(os.path.join(data_path , index_data[0].strip()))\n",
    "        sign_type.append(index_data[1])\n",
    "    \n",
    "    # convert the image and type lists to arrays\n",
    "    image_array = np.asarray(image)\n",
    "    signs_type_array = np.asarray(sign_type)\n",
    "    \n",
    "    return image_array,signs_type_array\n",
    "\n",
    "\n",
    "image , signs_type = load_imageAndtype(\"photo/\",data)\n",
    "\n",
    "print(image)\n",
    "print(signs_type)"
   ]
  },
  {
   "cell_type": "code",
   "execution_count": 5,
   "metadata": {},
   "outputs": [],
   "source": [
    "# split the data to train and test \n",
    "X_train ,X_valid ,y_train ,y_valid = train_test_split(image,signs_type ,test_size=0.2 ,random_state =6)"
   ]
  },
  {
   "cell_type": "code",
   "execution_count": 6,
   "metadata": {},
   "outputs": [
    {
     "name": "stdout",
     "output_type": "stream",
     "text": [
      "3\n",
      "(599,)\n",
      "(150,)\n"
     ]
    }
   ],
   "source": [
    "print(y_train[1])\n",
    "print(X_train.shape)\n",
    "print(X_valid.shape)"
   ]
  },
  {
   "cell_type": "code",
   "execution_count": 7,
   "metadata": {},
   "outputs": [],
   "source": [
    "# this method to process the image \n",
    "def process_img(path):\n",
    "    img = mpimag.imread(path)\n",
    "    img = cv2.resize(img,(32,32))\n",
    "    img = img/255\n",
    "    return img \n"
   ]
  },
  {
   "cell_type": "code",
   "execution_count": 8,
   "metadata": {},
   "outputs": [
    {
     "name": "stdout",
     "output_type": "stream",
     "text": [
      "(32, 32)\n"
     ]
    },
    {
     "data": {
      "image/png": "[encoded data removed]",
      "text/plain": [
       "<Figure size 432x288 with 1 Axes>"
      ]
     },
     "metadata": {
      "needs_background": "light"
     },
     "output_type": "display_data"
    },
    {
     "data": {
      "image/png": "[encoded data removed]",
      "text/plain": [
       "<Figure size 432x288 with 1 Axes>"
      ]
     },
     "metadata": {
      "needs_background": "light"
     },
     "output_type": "display_data"
    }
   ],
   "source": [
    "sample=400\n",
    "img = mpimag.imread(X_train[sample])\n",
    "img_p = process_img(X_train[sample])\n",
    "\n",
    "plt.figure(1)\n",
    "plt.imshow(img,cmap=\"gray\")\n",
    "\n",
    "plt.figure(2)\n",
    "plt.imshow(img_p,cmap=\"gray\")\n",
    "\n",
    "print(img_p.shape)"
   ]
  },
  {
   "cell_type": "code",
   "execution_count": 9,
   "metadata": {},
   "outputs": [],
   "source": [
    "#process all image for train and test\n",
    "X_train = np.array(list(map(process_img,X_train)))\n",
    "X_valid = np.array(list(map(process_img,X_valid)))\n"
   ]
  },
  {
   "cell_type": "code",
   "execution_count": 10,
   "metadata": {},
   "outputs": [],
   "source": [
    "y_train = to_categorical(y_train,5)\n",
    "y_valid = to_categorical(y_valid,5)\n"
   ]
  },
  {
   "cell_type": "code",
   "execution_count": 11,
   "metadata": {},
   "outputs": [
    {
     "data": {
      "text/plain": [
       "array([0., 0., 0., 0., 1.], dtype=float32)"
      ]
     },
     "execution_count": 11,
     "metadata": {},
     "output_type": "execute_result"
    }
   ],
   "source": [
    "y_train[9]"
   ]
  },
  {
   "cell_type": "code",
   "execution_count": 12,
   "metadata": {},
   "outputs": [
    {
     "name": "stdout",
     "output_type": "stream",
     "text": [
      "[[0.41568627 0.51372549 0.49411765 ... 0.49019608 0.48627451 0.48627451]\n",
      " [0.39607843 0.51372549 0.41176471 ... 0.50588235 0.50196078 0.50196078]\n",
      " [0.38039216 0.50980392 0.43529412 ... 0.49803922 0.49803922 0.49803922]\n",
      " ...\n",
      " [0.48235294 0.47843137 0.47843137 ... 0.46666667 0.46666667 0.43921569]\n",
      " [0.48235294 0.47843137 0.4745098  ... 0.46666667 0.4627451  0.42352941]\n",
      " [0.47058824 0.47058824 0.46666667 ... 0.46666667 0.4627451  0.4       ]]\n",
      "(32, 32)\n",
      "[0. 0. 0. 1. 0.]\n",
      "(599, 32, 32)\n",
      "(150, 32, 32)\n"
     ]
    },
    {
     "data": {
      "image/png": "[encoded data removed]",
      "text/plain": [
       "<Figure size 432x288 with 1 Axes>"
      ]
     },
     "metadata": {
      "needs_background": "light"
     },
     "output_type": "display_data"
    }
   ],
   "source": [
    "sample=400\n",
    "print(X_train[sample])\n",
    "print(X_train[sample].shape)\n",
    "print(y_train[sample])\n",
    "plt.imshow(X_train[sample],cmap=\"gray\")\n",
    "\n",
    "print(X_train.shape)\n",
    "print(X_valid.shape)"
   ]
  },
  {
   "cell_type": "code",
   "execution_count": 13,
   "metadata": {},
   "outputs": [],
   "source": [
    "#reshape the image to (1,32,32,1)\n",
    "X_train = X_train.reshape(len(X_train),32,32,1)\n",
    "X_valid = X_valid.reshape(len(X_valid),32,32,1)"
   ]
  },
  {
   "cell_type": "code",
   "execution_count": 14,
   "metadata": {},
   "outputs": [
    {
     "name": "stdout",
     "output_type": "stream",
     "text": [
      "(599, 32, 32, 1)\n",
      "(150, 32, 32, 1)\n"
     ]
    }
   ],
   "source": [
    "print(X_train.shape)\n",
    "print(X_valid.shape)"
   ]
  },
  {
   "cell_type": "code",
   "execution_count": 15,
   "metadata": {},
   "outputs": [],
   "source": [
    "# initail data generator to generate new image form one image \n",
    "# the new images will be (zoom,rotate,shear,...) \n",
    "from keras.preprocessing.image import ImageDataGenerator\n",
    "\n",
    "data_generator = ImageDataGenerator(width_shift_range=0.1,\n",
    "                                    height_shift_range=0.1,\n",
    "                                    zoom_range=0.2,\n",
    "                                    shear_range=0.1,\n",
    "                                    rotation_range=10.)\n",
    "\n"
   ]
  },
  {
   "cell_type": "code",
   "execution_count": 16,
   "metadata": {},
   "outputs": [
    {
     "data": {
      "image/png": "[encoded data removed]",
      "text/plain": [
       "<Figure size 1440x360 with 15 Axes>"
      ]
     },
     "metadata": {
      "needs_background": "light"
     },
     "output_type": "display_data"
    }
   ],
   "source": [
    "batches = data_generator.flow(X_train,y_train,batch_size=20)\n",
    "\n",
    "X_batch ,y_batch = next(batches)\n",
    "\n",
    "fig , axs = plt.subplots(1,15 ,figsize=(20,5))\n",
    "fig.tight_layout()\n",
    "\n",
    "for i in range(15):\n",
    "    axs[i].imshow(X_batch[i].reshape(32,32),cmap=plt.get_cmap(\"gray\"))\n",
    "    axs[i].axis(\"off\")"
   ]
  },
  {
   "cell_type": "code",
   "execution_count": 17,
   "metadata": {},
   "outputs": [],
   "source": [
    "# this method define new model \n",
    "# we determine two convolutions layers and Maxplooing layer for tow times\n",
    "# Dropout layer to dorp unimportant neurons \n",
    "# output layer will consist of four neurons for (red,green,stop,limit)\n",
    "def leNet_model():\n",
    "    model = Sequential()\n",
    "\n",
    "    model.add(Conv2D(60,(5,5),input_shape=(32,32,1),activation=\"relu\"))\n",
    "\n",
    "    model.add(Conv2D(60,(5,5),input_shape=(32,32,1),activation=\"relu\"))\n",
    "\n",
    "    model.add(MaxPooling2D(pool_size=(2,2)))\n",
    "\n",
    "    model.add(Conv2D(30,(3,3),activation=\"relu\"))\n",
    "    model.add(Conv2D(30,(3,3),activation=\"relu\"))\n",
    "    model.add(MaxPooling2D(pool_size=(2,2)))\n",
    "    \n",
    "    #model.add(Dropout(0.5))\n",
    "\n",
    "    model.add(Flatten())\n",
    "\n",
    "    model.add(Dense(500,activation=\"relu\"))\n",
    "    model.add(Dropout(0.5))\n",
    "    model.add(Dense(5,activation=\"softmax\"))\n",
    "    \n",
    "    model.compile(Adam(lr=0.001),loss=\"categorical_crossentropy\",metrics=[\"accuracy\"])\n",
    "\n",
    "    return model"
   ]
  },
  {
   "cell_type": "code",
   "execution_count": 18,
   "metadata": {},
   "outputs": [
    {
     "name": "stdout",
     "output_type": "stream",
     "text": [
      "WARNING:tensorflow:From c:\\python37\\lib\\site-packages\\tensorflow\\python\\framework\\op_def_library.py:263: colocate_with (from tensorflow.python.framework.ops) is deprecated and will be removed in a future version.\n",
      "Instructions for updating:\n",
      "Colocations handled automatically by placer.\n",
      "WARNING:tensorflow:From c:\\python37\\lib\\site-packages\\keras\\backend\\tensorflow_backend.py:3445: calling dropout (from tensorflow.python.ops.nn_ops) with keep_prob is deprecated and will be removed in a future version.\n",
      "Instructions for updating:\n",
      "Please use `rate` instead of `keep_prob`. Rate should be set to `rate = 1 - keep_prob`.\n",
      "_________________________________________________________________\n",
      "Layer (type)                 Output Shape              Param #   \n",
      "=================================================================\n",
      "conv2d_1 (Conv2D)            (None, 28, 28, 60)        1560      \n",
      "_________________________________________________________________\n",
      "conv2d_2 (Conv2D)            (None, 24, 24, 60)        90060     \n",
      "_________________________________________________________________\n",
      "max_pooling2d_1 (MaxPooling2 (None, 12, 12, 60)        0         \n",
      "_________________________________________________________________\n",
      "conv2d_3 (Conv2D)            (None, 10, 10, 30)        16230     \n",
      "_________________________________________________________________\n",
      "conv2d_4 (Conv2D)            (None, 8, 8, 30)          8130      \n",
      "_________________________________________________________________\n",
      "max_pooling2d_2 (MaxPooling2 (None, 4, 4, 30)          0         \n",
      "_________________________________________________________________\n",
      "flatten_1 (Flatten)          (None, 480)               0         \n",
      "_________________________________________________________________\n",
      "dense_1 (Dense)              (None, 500)               240500    \n",
      "_________________________________________________________________\n",
      "dropout_1 (Dropout)          (None, 500)               0         \n",
      "_________________________________________________________________\n",
      "dense_2 (Dense)              (None, 5)                 2505      \n",
      "=================================================================\n",
      "Total params: 358,985\n",
      "Trainable params: 358,985\n",
      "Non-trainable params: 0\n",
      "_________________________________________________________________\n",
      "None\n"
     ]
    }
   ],
   "source": [
    "model=leNet_model()\n",
    "print(model.summary())"
   ]
  },
  {
   "cell_type": "code",
   "execution_count": 19,
   "metadata": {},
   "outputs": [
    {
     "name": "stdout",
     "output_type": "stream",
     "text": [
      "WARNING:tensorflow:From c:\\python37\\lib\\site-packages\\tensorflow\\python\\ops\\math_ops.py:3066: to_int32 (from tensorflow.python.ops.math_ops) is deprecated and will be removed in a future version.\n",
      "Instructions for updating:\n",
      "Use tf.cast instead.\n",
      "Epoch 1/10\n",
      "100/100 [==============================] - 30s 305ms/step - loss: 0.7057 - acc: 0.7302 - val_loss: 0.1072 - val_acc: 0.9800\n",
      "Epoch 2/10\n",
      "100/100 [==============================] - 29s 288ms/step - loss: 0.2050 - acc: 0.9348 - val_loss: 0.0393 - val_acc: 0.9933\n",
      "Epoch 3/10\n",
      "100/100 [==============================] - 29s 286ms/step - loss: 0.1459 - acc: 0.9574 - val_loss: 0.0218 - val_acc: 0.9933\n",
      "Epoch 4/10\n",
      "100/100 [==============================] - 29s 288ms/step - loss: 0.0727 - acc: 0.9770 - val_loss: 0.0367 - val_acc: 0.9933\n",
      "Epoch 5/10\n",
      "100/100 [==============================] - 29s 290ms/step - loss: 0.0816 - acc: 0.9809 - val_loss: 0.0311 - val_acc: 0.9933\n",
      "Epoch 6/10\n",
      "100/100 [==============================] - 28s 285ms/step - loss: 0.0409 - acc: 0.9890 - val_loss: 0.0171 - val_acc: 0.9933\n",
      "Epoch 7/10\n",
      "100/100 [==============================] - 29s 289ms/step - loss: 0.0678 - acc: 0.9784 - val_loss: 0.0305 - val_acc: 0.9933\n",
      "Epoch 8/10\n",
      "100/100 [==============================] - 28s 285ms/step - loss: 0.0442 - acc: 0.9875 - val_loss: 0.0142 - val_acc: 0.9933\n",
      "Epoch 9/10\n",
      "100/100 [==============================] - 28s 284ms/step - loss: 0.0508 - acc: 0.9834 - val_loss: 0.0216 - val_acc: 0.9933\n",
      "Epoch 10/10\n",
      "100/100 [==============================] - 29s 286ms/step - loss: 0.0368 - acc: 0.9895 - val_loss: 0.0170 - val_acc: 0.9933\n"
     ]
    }
   ],
   "source": [
    "his = model.fit_generator(data_generator.flow(X_train,y_train,batch_size=20),\n",
    "                              steps_per_epoch=100,epochs=10,validation_data=(X_valid, y_valid), shuffle = 1)"
   ]
  },
  {
   "cell_type": "code",
   "execution_count": 20,
   "metadata": {},
   "outputs": [
    {
     "data": {
      "text/plain": [
       "Text(0.5, 0, 'epoch')"
      ]
     },
     "execution_count": 20,
     "metadata": {},
     "output_type": "execute_result"
    },
    {
     "data": {
      "image/png": "[encoded data removed]",
      "text/plain": [
       "<Figure size 432x288 with 1 Axes>"
      ]
     },
     "metadata": {
      "needs_background": "light"
     },
     "output_type": "display_data"
    }
   ],
   "source": [
    "plt.plot(his.history['loss'])\n",
    "plt.plot(his.history['val_loss'])\n",
    "plt.legend(['training','val'])\n",
    "plt.title('Loss')\n",
    "plt.xlabel('epoch')"
   ]
  },
  {
   "cell_type": "code",
   "execution_count": 21,
   "metadata": {},
   "outputs": [
    {
     "data": {
      "text/plain": [
       "Text(0.5, 0, 'epoch')"
      ]
     },
     "execution_count": 21,
     "metadata": {},
     "output_type": "execute_result"
    },
    {
     "data": {
      "image/png": "[encoded data removed]",
      "text/plain": [
       "<Figure size 432x288 with 1 Axes>"
      ]
     },
     "metadata": {
      "needs_background": "light"
     },
     "output_type": "display_data"
    }
   ],
   "source": [
    "plt.plot(his.history['acc'])\n",
    "plt.plot(his.history['val_acc'])\n",
    "plt.legend(['training','val'])\n",
    "plt.title('Accuracy')\n",
    "plt.xlabel('epoch')"
   ]
  },
  {
   "cell_type": "code",
   "execution_count": 29,
   "metadata": {},
   "outputs": [
    {
     "name": "stdout",
     "output_type": "stream",
     "text": [
      "predicted sign: [1]\n"
     ]
    }
   ],
   "source": [
    "img  = X_train[386].reshape(1,32,32,1)\n",
    "predict = model.predict_classes(img) \n",
    "print(\"predicted sign: \"+ str(predict))\n"
   ]
  },
  {
   "cell_type": "code",
   "execution_count": 30,
   "metadata": {},
   "outputs": [],
   "source": [
    "model.save(\"saved_model/model_signs1.xml\")"
   ]
  },
  {
   "cell_type": "code",
   "execution_count": null,
   "metadata": {},
   "outputs": [],
   "source": []
  }
 ],
 "metadata": {
  "kernelspec": {
   "display_name": "Python 3",
   "language": "python",
   "name": "python3"
  },
  "language_info": {
   "codemirror_mode": {
    "name": "ipython",
    "version": 3
   },
   "file_extension": ".py",
   "mimetype": "text/x-python",
   "name": "python",
   "nbconvert_exporter": "python",
   "pygments_lexer": "ipython3",
   "version": "3.7.1"
  }
 },
 "nbformat": 4,
 "nbformat_minor": 2
}
